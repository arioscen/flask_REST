{
 "cells": [
  {
   "cell_type": "code",
   "execution_count": 11,
   "metadata": {},
   "outputs": [
    {
     "name": "stdout",
     "output_type": "stream",
     "text": [
      "GET profiles: 3.json<p>4.json<p>2.json<p>1.json\n"
     ]
    }
   ],
   "source": [
    "import requests\n",
    "url = 'http://localhost:5002/profile/'\n",
    "\n",
    "# GET profiles 展示所有資料\n",
    "profiles = requests.get(url)\n",
    "print(\"GET profiles: \" + profiles.text)"
   ]
  },
  {
   "cell_type": "code",
   "execution_count": 26,
   "metadata": {},
   "outputs": [
    {
     "name": "stdout",
     "output_type": "stream",
     "text": [
      "GET profile/1:  {\"name\": \"Andy\", \"age\": 31}\n"
     ]
    }
   ],
   "source": [
    "# GET profile/id 讀取使用者資料\n",
    "get_id = 1\n",
    "get_profile = requests.get(url + str(get_id))\n",
    "print(\"GET profile/%s: \" % get_id , get_profile.text)"
   ]
  },
  {
   "cell_type": "code",
   "execution_count": 23,
   "metadata": {},
   "outputs": [
    {
     "name": "stdout",
     "output_type": "stream",
     "text": [
      "POST profile/9:  profile of 9 has already existed.\n"
     ]
    }
   ],
   "source": [
    "# POST profile/id 新增一筆資料\n",
    "post_id = 9\n",
    "post_data = {\"name\": \"XYZ\", \"age\": 123}\n",
    "post_profile = requests.post(url + str(post_id), json=post_data)\n",
    "print(\"POST profile/%s: \" % post_id, post_profile.text)"
   ]
  },
  {
   "cell_type": "code",
   "execution_count": 38,
   "metadata": {},
   "outputs": [
    {
     "name": "stdout",
     "output_type": "stream",
     "text": [
      "PUT profile/2:  {\"age\": 21, \"name\": \"Ben\"}\n"
     ]
    }
   ],
   "source": [
    "# PUT proffile/id 修改/新增一筆資料\n",
    "put_id = 2\n",
    "put_data = {\"name\": \"Ben\", \"age\": 21}\n",
    "put_profile = requests.put(url + str(put_id), json=put_data)\n",
    "print(\"PUT profile/%s: \" % put_id, put_profile.text)"
   ]
  },
  {
   "cell_type": "code",
   "execution_count": 37,
   "metadata": {},
   "outputs": [
    {
     "name": "stdout",
     "output_type": "stream",
     "text": [
      "profile of 999  was DELETE.\n"
     ]
    }
   ],
   "source": [
    "# DELETE proffile/id 修改/新增一筆資料\n",
    "delete_id = 999\n",
    "delete_profile = requests.delete(url + str(delete_id))\n",
    "print(delete_profile.text)"
   ]
  }
 ],
 "metadata": {
  "kernelspec": {
   "display_name": "Python 3",
   "language": "python",
   "name": "python3"
  },
  "language_info": {
   "codemirror_mode": {
    "name": "ipython",
    "version": 3
   },
   "file_extension": ".py",
   "mimetype": "text/x-python",
   "name": "python",
   "nbconvert_exporter": "python",
   "pygments_lexer": "ipython3",
   "version": "3.5.2"
  }
 },
 "nbformat": 4,
 "nbformat_minor": 2
}
